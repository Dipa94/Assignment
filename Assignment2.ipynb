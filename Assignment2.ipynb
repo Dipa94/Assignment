{
 "cells": [
  {
   "cell_type": "code",
   "execution_count": 1,
   "id": "dee744e8-815e-43d6-bf22-feb8d25f7019",
   "metadata": {},
   "outputs": [],
   "source": [
    "##Q1. How do you comment code in Python? What are the different types of comments?\n",
    "## i comment code in python by using ## .And another method is using \"\"\"\"\"\".\n",
    "\n",
    "## There are two types of comment.\n",
    "##1.Single line comment\n",
    "##2.Multi line comment.\n",
    "##For single line comment we use ## and for multi line comment we use \"\"\"\"\"\".\n"
   ]
  },
  {
   "cell_type": "code",
   "execution_count": 2,
   "id": "57a143bf-8214-43b7-b543-26a0e924dc4e",
   "metadata": {},
   "outputs": [
    {
     "name": "stdout",
     "output_type": "stream",
     "text": [
      "90\n"
     ]
    }
   ],
   "source": [
    "##Q2. What are variables in Python? How do you declare and assign values to variables?\n",
    "\n",
    "##Variables are used to store the data.\n",
    "a=90\n",
    "print(a)\n"
   ]
  },
  {
   "cell_type": "code",
   "execution_count": 3,
   "id": "0f15f8a3-8fb1-49b3-b4f0-92b6cacb1e64",
   "metadata": {},
   "outputs": [
    {
     "name": "stdout",
     "output_type": "stream",
     "text": [
      "90\n",
      "<class 'str'>\n",
      "90.0\n"
     ]
    }
   ],
   "source": [
    "##Q3. How do you convert one data type to another in Python?\n",
    "\n",
    "##I covert one data type to another by type casting.\n",
    "a=90\n",
    "print(a)\n",
    "b=str(a)\n",
    "print(type(b))\n",
    "c=float(a)\n",
    "print(c)\n"
   ]
  },
  {
   "cell_type": "code",
   "execution_count": null,
   "id": "0ca4fbc8-a916-4676-b37a-1bc0944373eb",
   "metadata": {},
   "outputs": [],
   "source": [
    "##Q4. How do you write and execute a Python script from the command line?\n",
    "\n",
    "open a command line and type the word python followed by the path to  script file like this: python\n",
    "first_script.py Hello World!Then you hit the ENTER button from the keyboard."
   ]
  },
  {
   "cell_type": "code",
   "execution_count": 4,
   "id": "249724f1-4440-4f32-9fca-4f92d7df285c",
   "metadata": {},
   "outputs": [
    {
     "name": "stdout",
     "output_type": "stream",
     "text": [
      "[2, 3]\n"
     ]
    }
   ],
   "source": [
    "##Q5. Given a list my_list = [1, 2, 3, 4, 5], write the code to slice the list and obtain the sub-list [2, 3].\n",
    "my_list = [1, 2, 3, 4, 5]\n",
    "print(my_list[1:3])\n"
   ]
  },
  {
   "cell_type": "code",
   "execution_count": 5,
   "id": "8a123e61-d1fa-46c9-92eb-9ef6a61781c7",
   "metadata": {},
   "outputs": [
    {
     "name": "stdout",
     "output_type": "stream",
     "text": [
      "<class 'complex'>\n",
      "9.0\n",
      "2.0\n"
     ]
    }
   ],
   "source": [
    "##Q6. What is a complex number in mathematics, and how is it represented in Python?\n",
    "a=9+2j\n",
    "print(type(a))\n",
    "print(a.real)\n",
    "print(a.imag)\n"
   ]
  },
  {
   "cell_type": "code",
   "execution_count": 6,
   "id": "39706286-a400-4719-9946-4cd200dbd166",
   "metadata": {},
   "outputs": [],
   "source": [
    "##Q7. What is the correct way to declare a variable named age and assign the value 25 to it?\n",
    "age=25\n",
    "\n"
   ]
  },
  {
   "cell_type": "code",
   "execution_count": 8,
   "id": "e66550c8-bcb7-40fd-9f7a-dd034fef8fdb",
   "metadata": {},
   "outputs": [
    {
     "name": "stdout",
     "output_type": "stream",
     "text": [
      "<class 'float'>\n"
     ]
    }
   ],
   "source": [
    "##Q8. Declare a variable named price and assign the value 9.99 to it. What data type does this variable \n",
    "##belong to?\n",
    "price=9.99\n",
    "print(type(price))"
   ]
  },
  {
   "cell_type": "code",
   "execution_count": 9,
   "id": "4dc97933-073f-4f88-b19f-512c6fdd8b08",
   "metadata": {},
   "outputs": [
    {
     "name": "stdout",
     "output_type": "stream",
     "text": [
      "Dipa Kundu\n"
     ]
    }
   ],
   "source": [
    "\"\"\"Q9. Create a variable named name and assign your full name to it as a string. How would you print the \n",
    "value of this variable?\"\"\"\n",
    "Name=\"Dipa Kundu\"\n",
    "print(Name)"
   ]
  },
  {
   "cell_type": "code",
   "execution_count": 10,
   "id": "122c90df-2eec-4222-a1ff-9d59552f716c",
   "metadata": {},
   "outputs": [
    {
     "name": "stdout",
     "output_type": "stream",
     "text": [
      "World\n"
     ]
    }
   ],
   "source": [
    "##Q10. Given the string \"Hello, World!\", extract the substring \"World\"\n",
    "\n",
    "Str=\"Hello, World!\"\n",
    "print(Str[7:12])\n",
    "\n"
   ]
  },
  {
   "cell_type": "code",
   "execution_count": 12,
   "id": "1f58b54e-8d16-476e-a3fd-8512b2f226e7",
   "metadata": {},
   "outputs": [
    {
     "name": "stdin",
     "output_type": "stream",
     "text": [
      " student\n"
     ]
    },
    {
     "name": "stdout",
     "output_type": "stream",
     "text": [
      "True\n"
     ]
    }
   ],
   "source": [
    "\"\"\"Q11. Create a variable named \"is_student\" and assign it a boolean value indicating whether you are \n",
    "currently a student or not\"\"\"\n",
    "\n",
    "Name=str(input())\n",
    "if Name=='student':\n",
    "    is_student=True\n",
    "    print(is_student)\n",
    "else:\n",
    "    is_student=False\n",
    "    print(is_student)\n",
    "\n"
   ]
  }
 ],
 "metadata": {
  "kernelspec": {
   "display_name": "Python 3 (ipykernel)",
   "language": "python",
   "name": "python3"
  },
  "language_info": {
   "codemirror_mode": {
    "name": "ipython",
    "version": 3
   },
   "file_extension": ".py",
   "mimetype": "text/x-python",
   "name": "python",
   "nbconvert_exporter": "python",
   "pygments_lexer": "ipython3",
   "version": "3.10.8"
  }
 },
 "nbformat": 4,
 "nbformat_minor": 5
}
