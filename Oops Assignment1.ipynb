{
 "cells": [
  {
   "cell_type": "code",
   "execution_count": 2,
   "id": "caecb6d7-c381-4059-88db-3e2aad4dc865",
   "metadata": {},
   "outputs": [],
   "source": [
    "\"\"\"Q1. Explain Class and Object with respect to Object-Oriented Programming. Give a suitable example.\"\"\"\n",
    "\"\"\" Class:\n",
    "A class is a blueprint or a template for creating objects. It defines the attributes (also called properties or fields) and behaviors (methods or functions) that the objects of that class will have. In other words, a class encapsulates the common characteristics and behaviors that its objects will share.\n",
    "\n",
    "Object:\n",
    "An object is an instance of a class. It represents a specific instance of the entity defined by the class. Each object has its own set of attributes and can perform the behaviors defined by the class. Objects are the actual entities that interact with each other in an object-oriented program.\n",
    " \"\"\"\n",
    "\n",
    " "
   ]
  },
  {
   "cell_type": "code",
   "execution_count": 9,
   "id": "c985ef92-bc05-4dec-9571-213fb6393c19",
   "metadata": {},
   "outputs": [
    {
     "name": "stdout",
     "output_type": "stream",
     "text": [
      "Buddy is 3 years old.\n",
      "Buddy says Woof!\n",
      "Max is 2 years old.\n",
      "Max says Woof!\n"
     ]
    }
   ],
   "source": [
    "class Dog:\n",
    "    def __init__(self, name, age):\n",
    "        self.name = name\n",
    "        self.age = age\n",
    "    \n",
    "    def bark(self):\n",
    "        print(f\"{self.name} says Woof!\")\n",
    "\n",
    "\n",
    "dog1 = Dog(\"Buddy\", 3)\n",
    "dog2 = Dog(\"Max\", 2)\n",
    "\n",
    "\n",
    "print(f\"{dog1.name} is {dog1.age} years old.\")\n",
    "dog1.bark()\n",
    "\n",
    "print(f\"{dog2.name} is {dog2.age} years old.\")\n",
    "dog2.bark()\n"
   ]
  },
  {
   "cell_type": "code",
   "execution_count": 10,
   "id": "f720639f-f719-42cf-81ac-d21a4d1fc479",
   "metadata": {},
   "outputs": [
    {
     "data": {
      "text/plain": [
       "' The Four Pillars of Object Oriented Programming\\nAbstraction.\\nEncapsulation.\\nInheritance.\\nPolymorphism. '"
      ]
     },
     "execution_count": 10,
     "metadata": {},
     "output_type": "execute_result"
    }
   ],
   "source": [
    "##Q2. Name the four pillars of OOPs.\n",
    "\n",
    "\"\"\" The Four Pillars of Object Oriented Programming\n",
    "Abstraction.\n",
    "Encapsulation.\n",
    "Inheritance.\n",
    "Polymorphism. \"\"\"\n"
   ]
  },
  {
   "cell_type": "code",
   "execution_count": 11,
   "id": "9c4eae38-ecdf-414a-a9e0-db1c6a389c76",
   "metadata": {},
   "outputs": [],
   "source": [
    "\"\"\" Q3. Explain why the __init__() function is used. Give a suitable example. \"\"\"\n",
    "\n",
    "\"\"\" The __init__ function is called every time an object is created from a class. The __init__ method lets the class initialize the object's attributes and serves no other purpose. It is only used within classes.\"\"\"\n",
    "\n",
    "class pwskills:\n",
    "    def __init__(self,name,email):\n",
    "        self.name=name\n",
    "        self.email=email\n",
    "    def student_details(self):\n",
    "        print(self.name,self.email)\n",
    "    "
   ]
  },
  {
   "cell_type": "code",
   "execution_count": 12,
   "id": "9e77d47d-a989-4274-9cc4-ef59f581aad3",
   "metadata": {},
   "outputs": [],
   "source": [
    "pw=pwskills('Dipa','dipa@gmail.com')"
   ]
  },
  {
   "cell_type": "code",
   "execution_count": 13,
   "id": "36cd6549-53fc-42e3-9e5f-aa68d00c0d26",
   "metadata": {},
   "outputs": [
    {
     "name": "stdout",
     "output_type": "stream",
     "text": [
      "Dipa dipa@gmail.com\n"
     ]
    }
   ],
   "source": [
    "pw.student_details()"
   ]
  },
  {
   "cell_type": "code",
   "execution_count": null,
   "id": "863a8d4e-6c38-4548-b725-6410343b2267",
   "metadata": {},
   "outputs": [],
   "source": [
    "##Q4. Why self is used in OOPs?"
   ]
  },
  {
   "cell_type": "code",
   "execution_count": null,
   "id": "dbd8ecd7-059a-468e-acd5-e8927d9d49a3",
   "metadata": {},
   "outputs": [],
   "source": [
    "\"\"\"self represents the instance of the class. By using the “self”  we can access the attributes and methods of the class in python. It binds the attributes with the given arguments.\n",
    "\n",
    "The reason you need to use self. is because Python does not use the @ syntax to refer to instance attributes.\"\"\""
   ]
  },
  {
   "cell_type": "code",
   "execution_count": 18,
   "id": "597b3edc-b5c4-4060-8af2-c45392ff9405",
   "metadata": {},
   "outputs": [
    {
     "data": {
      "text/plain": [
       "' Inheritance is defined as a mechanism where the sub or child class inherits the properties and characteristics of the super class or other derived classes. It also supports additional features of extracting properties from the child class and using it into other derived classes.'"
      ]
     },
     "execution_count": 18,
     "metadata": {},
     "output_type": "execute_result"
    }
   ],
   "source": [
    "\"\"\" Q5. What is inheritance? Give an example for each type of inheritance. \"\"\"\n",
    "\n",
    "\"\"\" Inheritance is defined as a mechanism where the sub or child class inherits the properties and characteristics of the super class or other derived classes. It also supports additional features of extracting properties from the child class and using it into other derived classes.\"\"\"\n",
    "\n"
   ]
  },
  {
   "cell_type": "code",
   "execution_count": 16,
   "id": "a694363f-e04b-44a5-82ad-d89b1bc8ba79",
   "metadata": {},
   "outputs": [
    {
     "name": "stdout",
     "output_type": "stream",
     "text": [
      "Woof!\n"
     ]
    }
   ],
   "source": [
    "##Single Inheritance:\n",
    "class Animal:\n",
    "    def speak(self):\n",
    "        pass\n",
    "\n",
    "class Dog(Animal):\n",
    "    def speak(self):\n",
    "        return \"Woof!\"\n",
    "\n",
    "dog = Dog()\n",
    "print(dog.speak())  "
   ]
  },
  {
   "cell_type": "code",
   "execution_count": 19,
   "id": "0dc7b4b6-d634-4b37-adc1-09831216aca8",
   "metadata": {},
   "outputs": [
    {
     "name": "stdout",
     "output_type": "stream",
     "text": [
      "Screech!\n"
     ]
    }
   ],
   "source": [
    "##Multiple Inheritance:\n",
    "class Bird:\n",
    "    def speak(self):\n",
    "        pass\n",
    "\n",
    "class Mammal:\n",
    "    def speak(self):\n",
    "        pass\n",
    "\n",
    "class Bat(Bird, Mammal):\n",
    "    def speak(self):\n",
    "        return \"Screech!\"\n",
    "\n",
    "bat = Bat()\n",
    "print(bat.speak())  \n"
   ]
  },
  {
   "cell_type": "code",
   "execution_count": 20,
   "id": "8af14328-fab3-43c5-825c-95fe89da31b7",
   "metadata": {},
   "outputs": [
    {
     "name": "stdout",
     "output_type": "stream",
     "text": [
      "None\n",
      "Driving a car\n",
      "Charging the electric car\n"
     ]
    }
   ],
   "source": [
    "##Multilevel Inheritance:\n",
    "class Vehicle:\n",
    "    def start_engine(self):\n",
    "        pass\n",
    "\n",
    "class Car(Vehicle):\n",
    "    def drive(self):\n",
    "        return \"Driving a car\"\n",
    "\n",
    "class ElectricCar(Car):\n",
    "    def charge(self):\n",
    "        return \"Charging the electric car\"\n",
    "\n",
    "electric_car = ElectricCar()\n",
    "print(electric_car.start_engine()) \n",
    "print(electric_car.drive())         \n",
    "print(electric_car.charge())       \n"
   ]
  },
  {
   "cell_type": "code",
   "execution_count": 21,
   "id": "8e4f30c3-331c-4fba-9b3b-21ba59def861",
   "metadata": {},
   "outputs": [
    {
     "name": "stdout",
     "output_type": "stream",
     "text": [
      "78.5\n",
      "16\n"
     ]
    }
   ],
   "source": [
    "##Hierarchical Inheritance:\n",
    "class Shape:\n",
    "    def area(self):\n",
    "        pass\n",
    "\n",
    "class Circle(Shape):\n",
    "    def area(self, radius):\n",
    "        return 3.14 * radius ** 2\n",
    "\n",
    "class Square(Shape):\n",
    "    def area(self, side):\n",
    "        return side ** 2\n",
    "\n",
    "circle = Circle()\n",
    "square = Square()\n",
    "\n",
    "print(circle.area(5))  # Output: 78.5\n",
    "print(square.area(4))  # Output: 16\n"
   ]
  },
  {
   "cell_type": "code",
   "execution_count": null,
   "id": "258f4dc6-94a8-47f4-9ee4-aa00d97d56f3",
   "metadata": {},
   "outputs": [],
   "source": []
  }
 ],
 "metadata": {
  "kernelspec": {
   "display_name": "Python 3 (ipykernel)",
   "language": "python",
   "name": "python3"
  },
  "language_info": {
   "codemirror_mode": {
    "name": "ipython",
    "version": 3
   },
   "file_extension": ".py",
   "mimetype": "text/x-python",
   "name": "python",
   "nbconvert_exporter": "python",
   "pygments_lexer": "ipython3",
   "version": "3.10.8"
  }
 },
 "nbformat": 4,
 "nbformat_minor": 5
}
