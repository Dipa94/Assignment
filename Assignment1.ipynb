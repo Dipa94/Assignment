{
 "cells": [
  {
   "cell_type": "code",
   "execution_count": 3,
   "id": "740bdd84-8d18-432a-b5d6-aef8ef4e1e12",
   "metadata": {},
   "outputs": [],
   "source": [
    "##Q1. Create one variable containing following type of data:\n",
    "    ##string\n",
    "##(ii) list\n",
    "##(iii) float\n",
    "##(iv) tuple"
   ]
  },
  {
   "cell_type": "code",
   "execution_count": 10,
   "id": "b7c8b43b-18de-4fb4-a3ea-540950b3ff6f",
   "metadata": {},
   "outputs": [
    {
     "name": "stdout",
     "output_type": "stream",
     "text": [
      "Dipa\n",
      "[1, 2, 3, 'dipa', 12.87]\n",
      "98.78\n",
      "(2, 5, 2, 9)\n"
     ]
    }
   ],
   "source": [
    "a=\"Dipa\"\n",
    "print(a)\n",
    "\n",
    "l=[1,2,3,'dipa',12.87]\n",
    "print(l)\n",
    "\n",
    "a=98.78\n",
    "print(a)\n",
    "\n",
    "t=(2,5,2,9)\n",
    "print(t)"
   ]
  },
  {
   "cell_type": "code",
   "execution_count": 12,
   "id": "40c2fb05-03d2-4f37-912a-835693aa4859",
   "metadata": {},
   "outputs": [],
   "source": [
    "##Q2. Given are some following variables containing data:\n",
    "##(i) var1 = ‘ ‘\n",
    "##(ii) var2 = ‘[ DS , ML , Python]’\n",
    "##(iii) var3 = [ ‘DS’ , ’ML’ , ‘Python’ ]\n",
    "##(iv) var4 = 1.\n",
    "##What will be the data type of the above given variable."
   ]
  },
  {
   "cell_type": "code",
   "execution_count": 14,
   "id": "c59e453a-66ba-4789-94ed-d324cbf497f4",
   "metadata": {},
   "outputs": [
    {
     "name": "stdout",
     "output_type": "stream",
     "text": [
      "<class 'str'>\n",
      "<class 'str'>\n",
      "<class 'list'>\n",
      "<class 'int'>\n"
     ]
    }
   ],
   "source": [
    "var1=' '\n",
    "print(type(var1))\n",
    "var2='[DS,ML,python]'\n",
    "print(type(var2))\n",
    "var3=['DS','ML','python']\n",
    "print(type(var3))\n",
    "var4=1\n",
    "print(type(var4))"
   ]
  },
  {
   "cell_type": "code",
   "execution_count": 15,
   "id": "b401d4cf-ca15-4c7b-81ed-bb1a901fc733",
   "metadata": {},
   "outputs": [
    {
     "name": "stdout",
     "output_type": "stream",
     "text": [
      "2.0\n",
      "1\n",
      "3\n",
      "27\n"
     ]
    }
   ],
   "source": [
    "#Explain the use of the following operators using an example:\n",
    "#(i) /\n",
    "#(ii) %\n",
    "#(iii) //\n",
    "#(iv) **\n",
    "\n",
    "a=10\n",
    "b=5\n",
    "c=a/b\n",
    "print(c)\n",
    "\n",
    "a=10\n",
    "b=3\n",
    "c=a%3\n",
    "print(c)\n",
    "\n",
    "a=10\n",
    "b=3\n",
    "c=a//b\n",
    "print(c)\n",
    "\n",
    "a=3\n",
    "b=3\n",
    "c=a**b\n",
    "print(c)"
   ]
  },
  {
   "cell_type": "code",
   "execution_count": null,
   "id": "2b9a1f4d-98e6-4e7e-a6a5-1025c74812c6",
   "metadata": {},
   "outputs": [],
   "source": [
    "##Q4. Create a list of length 10 of your choice containing multiple types of data. Using for loop print the\n",
    "##element and its data type."
   ]
  },
  {
   "cell_type": "code",
   "execution_count": 16,
   "id": "d0759143-023e-4597-b49f-6a930d0692a0",
   "metadata": {},
   "outputs": [
    {
     "name": "stdout",
     "output_type": "stream",
     "text": [
      "1\n",
      "<class 'int'>\n",
      "2\n",
      "<class 'int'>\n",
      "3\n",
      "<class 'int'>\n",
      "dipa\n",
      "<class 'str'>\n",
      "23.98\n",
      "<class 'float'>\n",
      "4\n",
      "<class 'int'>\n",
      "5\n",
      "<class 'int'>\n",
      "code\n",
      "<class 'str'>\n",
      "9\n",
      "<class 'int'>\n",
      "10\n",
      "<class 'int'>\n"
     ]
    }
   ],
   "source": [
    "l=[1,2,3,'dipa',23.98,4,5,'code',9,10]\n",
    "for i in l:\n",
    "  print(i)\n",
    "  print(type(i))"
   ]
  },
  {
   "cell_type": "code",
   "execution_count": 1,
   "id": "5e3379c9-c6bf-4641-b320-982444ee514a",
   "metadata": {},
   "outputs": [
    {
     "name": "stdout",
     "output_type": "stream",
     "text": [
      "Enter a\n"
     ]
    },
    {
     "name": "stdin",
     "output_type": "stream",
     "text": [
      " 9\n"
     ]
    },
    {
     "name": "stdout",
     "output_type": "stream",
     "text": [
      "Enter b\n"
     ]
    },
    {
     "name": "stdin",
     "output_type": "stream",
     "text": [
      " 3\n"
     ]
    },
    {
     "name": "stdout",
     "output_type": "stream",
     "text": [
      "3.0\n"
     ]
    }
   ],
   "source": [
    "##Q5. Using a while loop, verify if the number A is purely divisible by number B and if so then how many\n",
    "##times it can be divisible.\n",
    "print(\"Enter a\")\n",
    "a=int(input())\n",
    "\n",
    "print(\"Enter b\")\n",
    "b=int(input())\n",
    "while(a%b==0):\n",
    "    c=a/b\n",
    "    print(c)\n",
    "    break\n",
    "else:\n",
    "    print(\"not devisible\")\n"
   ]
  },
  {
   "cell_type": "code",
   "execution_count": 3,
   "id": "93dbfa3c-a73c-44af-9b64-c500904d2087",
   "metadata": {},
   "outputs": [
    {
     "name": "stdout",
     "output_type": "stream",
     "text": [
      "not divisible\n",
      "not divisible\n",
      "divisible\n",
      "not divisible\n",
      "not divisible\n",
      "divisible\n",
      "not divisible\n",
      "not divisible\n",
      "divisible\n",
      "not divisible\n",
      "not divisible\n",
      "divisible\n",
      "not divisible\n",
      "not divisible\n",
      "divisible\n",
      "not divisible\n",
      "not divisible\n",
      "divisible\n",
      "not divisible\n",
      "not divisible\n",
      "divisible\n",
      "not divisible\n",
      "not divisible\n",
      "divisible\n",
      "not divisible\n"
     ]
    }
   ],
   "source": [
    "# Q6. Create a list containing 25 int type data. Using for loop and if-else condition print if the element is\n",
    "# divisible by 3 or not.\n",
    "\n",
    "l=[1,2,3,4,5,6,7,8,9,10,11,12,13,14,15,16,17,18,19,20,21,22,23,24,25]\n",
    "for i in l:\n",
    "    if i%3==0:\n",
    "        print(\"divisible\")\n",
    "    else:\n",
    "        print(\"not divisible\")"
   ]
  },
  {
   "cell_type": "code",
   "execution_count": 6,
   "id": "640ad61b-3fd2-4b1a-be8d-ac4bd0aea9c0",
   "metadata": {},
   "outputs": [
    {
     "ename": "TypeError",
     "evalue": "'str' object does not support item assignment",
     "output_type": "error",
     "traceback": [
      "\u001b[0;31m---------------------------------------------------------------------------\u001b[0m",
      "\u001b[0;31mTypeError\u001b[0m                                 Traceback (most recent call last)",
      "Cell \u001b[0;32mIn[6], line 9\u001b[0m\n\u001b[1;32m      1\u001b[0m \u001b[38;5;66;03m# Q7. What do you understand about mutable and immutable data types? Give examples for both showing\u001b[39;00m\n\u001b[1;32m      2\u001b[0m \u001b[38;5;66;03m# this property.\u001b[39;00m\n\u001b[1;32m      3\u001b[0m \n\u001b[1;32m      4\u001b[0m \n\u001b[1;32m      5\u001b[0m \u001b[38;5;66;03m# Mutable and immutable data types are concepts used in programming to describe whether the value of a data type\u001b[39;00m\n\u001b[1;32m      6\u001b[0m \u001b[38;5;66;03m# can be changed (mutable) or not (immutable) after it has been created. \u001b[39;00m\n\u001b[1;32m      8\u001b[0m message \u001b[38;5;241m=\u001b[39m \u001b[38;5;124m\"\u001b[39m\u001b[38;5;124mHello\u001b[39m\u001b[38;5;124m\"\u001b[39m\n\u001b[0;32m----> 9\u001b[0m \u001b[43mmessage\u001b[49m\u001b[43m[\u001b[49m\u001b[38;5;241;43m0\u001b[39;49m\u001b[43m]\u001b[49m\u001b[38;5;241m=\u001b[39m\u001b[38;5;124m\"\u001b[39m\u001b[38;5;124mm\u001b[39m\u001b[38;5;124m\"\u001b[39m\n\u001b[1;32m     10\u001b[0m new_message \u001b[38;5;241m=\u001b[39m message \u001b[38;5;241m+\u001b[39m \u001b[38;5;124m\"\u001b[39m\u001b[38;5;124m World\u001b[39m\u001b[38;5;124m\"\u001b[39m\n\u001b[1;32m     11\u001b[0m \u001b[38;5;28mprint\u001b[39m(message)  \n",
      "\u001b[0;31mTypeError\u001b[0m: 'str' object does not support item assignment"
     ]
    }
   ],
   "source": [
    "# Q7. What do you understand about mutable and immutable data types? Give examples for both showing\n",
    "# this property.\n",
    "\n",
    "\n",
    "# Mutable and immutable data types are concepts used in programming to describe whether the value of a data type\n",
    "# can be changed (mutable) or not (immutable) after it has been created. \n",
    "\n",
    "message = \"Hello\"\n",
    "message[0]=\"m\"\n",
    "print(message)  \n",
    "\n",
    "\n"
   ]
  },
  {
   "cell_type": "code",
   "execution_count": null,
   "id": "d3adeb7f-6c77-4130-a62b-d917b77ac235",
   "metadata": {},
   "outputs": [],
   "source": []
  },
  {
   "cell_type": "code",
   "execution_count": null,
   "id": "a806002a-5bf6-4035-9a8f-25bc747369f5",
   "metadata": {},
   "outputs": [],
   "source": []
  }
 ],
 "metadata": {
  "kernelspec": {
   "display_name": "Python 3 (ipykernel)",
   "language": "python",
   "name": "python3"
  },
  "language_info": {
   "codemirror_mode": {
    "name": "ipython",
    "version": 3
   },
   "file_extension": ".py",
   "mimetype": "text/x-python",
   "name": "python",
   "nbconvert_exporter": "python",
   "pygments_lexer": "ipython3",
   "version": "3.10.8"
  }
 },
 "nbformat": 4,
 "nbformat_minor": 5
}
