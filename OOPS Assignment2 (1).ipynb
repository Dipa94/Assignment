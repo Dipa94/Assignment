{
 "cells": [
  {
   "cell_type": "code",
   "execution_count": 6,
   "id": "734cd332-693a-4670-a4ad-45b9411e6714",
   "metadata": {},
   "outputs": [],
   "source": [
    "##Q1. What is Abstraction in OOps? Explain with an example.\n",
    "\"\"\"Abstraction is the process of hiding the internal details of an application from the outer world.\"\"\"\n",
    "\n",
    "\n",
    "import abc\n",
    "class pwskills:\n",
    "    @abc.abstractmethod\n",
    "    def student_details(self):\n",
    "        pass\n",
    "    \n",
    "    @abc.abstractmethod\n",
    "    def student_assignment(self):\n",
    "        pass\n",
    "    \n",
    "    @abc.abstractmethod\n",
    "    def student_marks(self):\n",
    "        pass"
   ]
  },
  {
   "cell_type": "code",
   "execution_count": 7,
   "id": "4f108b81-0b51-45dc-8afe-fd0ce0799b90",
   "metadata": {},
   "outputs": [],
   "source": [
    "class student_details(pwskills):\n",
    "    def student_details(self):\n",
    "        return \"this is method for st details\"\n",
    "    def student_assignment(self):\n",
    "        return \"this is for assigning a task\""
   ]
  },
  {
   "cell_type": "code",
   "execution_count": 11,
   "id": "c611662f-8535-49b5-9316-52190efe9a1b",
   "metadata": {},
   "outputs": [],
   "source": [
    "sd=student_details()"
   ]
  },
  {
   "cell_type": "code",
   "execution_count": null,
   "id": "3b3f7b13-871e-4c7b-9e9a-910318cb7ec6",
   "metadata": {},
   "outputs": [],
   "source": []
  },
  {
   "cell_type": "code",
   "execution_count": 12,
   "id": "ecad80af-7298-4c56-9693-97d82a39b122",
   "metadata": {},
   "outputs": [
    {
     "data": {
      "text/plain": [
       "'this is method for st details'"
      ]
     },
     "execution_count": 12,
     "metadata": {},
     "output_type": "execute_result"
    }
   ],
   "source": [
    "sd.student_details()"
   ]
  },
  {
   "cell_type": "code",
   "execution_count": 13,
   "id": "b390905a-45e2-4b44-b9ad-85c6475b8e01",
   "metadata": {},
   "outputs": [],
   "source": [
    "##Q2. Differentiate between Abstraction and Encapsulation. Explain with an example.\n",
    "\"\"\"  Abstraction is the method of hiding the unwanted information. Whereas encapsulation is a method to hide the data in a single entity or unit along with a method to protect information from outside. \"\"\"\n",
    "##Abstraction\n",
    "import abc\n",
    "class pwskills:\n",
    "    @abc.abstractmethod\n",
    "    def student_details(self):\n",
    "        pass\n",
    "    \n",
    "    @abc.abstractmethod\n",
    "    def student_assignment(self):\n",
    "        pass\n",
    "    \n",
    "    @abc.abstractmethod\n",
    "    def student_marks(self):\n",
    "        pass"
   ]
  },
  {
   "cell_type": "code",
   "execution_count": 14,
   "id": "1407f167-6ab7-4f53-bc7a-5328346474f9",
   "metadata": {},
   "outputs": [],
   "source": [
    "class student_details(pwskills):\n",
    "    def student_details(self):\n",
    "        return \"this is method for st details\"\n",
    "    def student_assignment(self):\n",
    "        return \"this is for assigning a task\""
   ]
  },
  {
   "cell_type": "code",
   "execution_count": 15,
   "id": "0f9c7fdb-2984-4af9-9f70-8adbe993a4c2",
   "metadata": {},
   "outputs": [],
   "source": [
    "sd=student_details()"
   ]
  },
  {
   "cell_type": "code",
   "execution_count": 16,
   "id": "41341b93-8052-4a16-965d-be74553020b4",
   "metadata": {},
   "outputs": [
    {
     "data": {
      "text/plain": [
       "'this is method for st details'"
      ]
     },
     "execution_count": 16,
     "metadata": {},
     "output_type": "execute_result"
    }
   ],
   "source": [
    "sd.student_details()"
   ]
  },
  {
   "cell_type": "code",
   "execution_count": 17,
   "id": "3df26458-c8b7-4c0a-a9db-70468923c6c0",
   "metadata": {},
   "outputs": [],
   "source": [
    "##encapsulation\n",
    "class car:\n",
    "    def __init__(self,year,make,model,speed):\n",
    "        self.__year=year\n",
    "        self.__make=make\n",
    "        self.__model=model\n",
    "        self.__speed=0\n",
    "    def set_speed(self,speed):\n",
    "        self.__speed=0 if speed<0 else  speed\n",
    "    \n",
    "    def get_speed(self):\n",
    "        return self.__speed\n",
    "        \n",
    "        \n",
    "   \n"
   ]
  },
  {
   "cell_type": "code",
   "execution_count": 18,
   "id": "12ad0e73-4035-4232-bd42-30e039b4e93d",
   "metadata": {},
   "outputs": [],
   "source": [
    "c=car(2022,\"toyota\",\"innova\",23)"
   ]
  },
  {
   "cell_type": "code",
   "execution_count": 19,
   "id": "1f6897be-e128-48e2-94f0-cea32bd8ef29",
   "metadata": {},
   "outputs": [
    {
     "data": {
      "text/plain": [
       "2022"
      ]
     },
     "execution_count": 19,
     "metadata": {},
     "output_type": "execute_result"
    }
   ],
   "source": [
    "c._car__year"
   ]
  },
  {
   "cell_type": "code",
   "execution_count": null,
   "id": "6bb29824-13be-4f43-982d-5527102594e2",
   "metadata": {},
   "outputs": [],
   "source": [
    "##Q3. What is abc module in python? Why is it used?\n",
    "\"\"\"  The abc module in Python stands for \"Abstract Base Classes.\" It provides a way to define abstract base classes and abstract methods, facilitating the creation of interfaces and enforcing certain programming paradigms such as abstraction and polymorphism. Abstract base classes are classes that cannot be instantiated themselves but are meant to be subclassed by other classes to provide a common structure and interface.\"\"\""
   ]
  },
  {
   "cell_type": "code",
   "execution_count": null,
   "id": "2350facf-e54a-430c-b432-a6f61f24dfb6",
   "metadata": {},
   "outputs": [],
   "source": [
    "##Q4. How can we achieve data abstraction?\n",
    "\"\"\" Data Abstraction in Python can be achieved through creating abstract classes and inheriting them later. \"\"\""
   ]
  },
  {
   "cell_type": "code",
   "execution_count": null,
   "id": "022ad22a-645a-4663-9a67-3e6479ff9842",
   "metadata": {},
   "outputs": [],
   "source": [
    "##Q5. Can we create an instance of an abstract class? Explain your answer.\n",
    "\"\"\" No, you cannot create an instance of an abstract class in Python. Abstract classes are meant to be incomplete, serving as a blueprint for other classes to inherit from and provide concrete implementations for the abstract methods defined in the abstract class.An abstract class itself is not meant to be instantiated because it may lack complete functionality due to the presence of abstract methods without implementations. \"\"\"\n"
   ]
  }
 ],
 "metadata": {
  "kernelspec": {
   "display_name": "Python 3 (ipykernel)",
   "language": "python",
   "name": "python3"
  },
  "language_info": {
   "codemirror_mode": {
    "name": "ipython",
    "version": 3
   },
   "file_extension": ".py",
   "mimetype": "text/x-python",
   "name": "python",
   "nbconvert_exporter": "python",
   "pygments_lexer": "ipython3",
   "version": "3.10.8"
  }
 },
 "nbformat": 4,
 "nbformat_minor": 5
}
