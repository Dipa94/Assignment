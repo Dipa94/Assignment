{
 "cells": [
  {
   "cell_type": "code",
   "execution_count": 12,
   "id": "1342a1da-337e-40e2-bd1b-f872a7042cbc",
   "metadata": {},
   "outputs": [],
   "source": [
    "\"\"\"Q1, Create a vehicle class with an init method having instance variables as name_of_vehicle, max_speed\n",
    "and average_of_vehicle.\"\"\"\n",
    "\n",
    "class vehicle:\n",
    "    def __init__(self,name_of_vehicle,max_speed,average_of_vehicle):\n",
    "        self.name_of_vehicle=name_of_vehicle\n",
    "        self.max_speed=max_speed\n",
    "        self.average_of_vehicle=average_of_vehicle\n",
    "    def vehicle_details(self):\n",
    "        return self.name_of_vehicle,self.max_speed,self.average_of_vehicle\n",
    "    \n",
    "    "
   ]
  },
  {
   "cell_type": "code",
   "execution_count": 13,
   "id": "38bc9597-5aae-43e9-8cfc-feca789dd74e",
   "metadata": {},
   "outputs": [],
   "source": [
    "vehicle_O=vehicle('car',90,50)"
   ]
  },
  {
   "cell_type": "code",
   "execution_count": 14,
   "id": "45d3cdf0-594f-4bb7-8284-8e5b20702d1f",
   "metadata": {},
   "outputs": [
    {
     "data": {
      "text/plain": [
       "('car', 90, 50)"
      ]
     },
     "execution_count": 14,
     "metadata": {},
     "output_type": "execute_result"
    }
   ],
   "source": [
    "vehicle_O.vehicle_details()"
   ]
  },
  {
   "cell_type": "code",
   "execution_count": 36,
   "id": "c4a8c789-e2fc-4808-95ee-1c4e3b7dfcac",
   "metadata": {},
   "outputs": [],
   "source": [
    "\"\"\"Q2. Create a child class car from the vehicle class created in Que 1, which will inherit the vehicle class.\n",
    "Create a method named seating_capacity which takes capacity as an argument and returns the name of\n",
    "the vehicle and its seating capacity.\"\"\"\n",
    "class vehicle:\n",
    "    def __init__(self,name_of_vehicle,max_speed,average_of_vehicle):\n",
    "        self.name_of_vehicle=name_of_vehicle\n",
    "        self.max_speed=max_speed\n",
    "        self.average_of_vehicle=average_of_vehicle\n",
    "    def vehicle_details(self):\n",
    "        return self.name_of_vehicle,self.max_speed,self.average_of_vehicle\n",
    "\n",
    "      \n",
    "    "
   ]
  },
  {
   "cell_type": "code",
   "execution_count": 49,
   "id": "55694010-5bdc-458c-b0ad-f6f847a7d7c9",
   "metadata": {},
   "outputs": [],
   "source": [
    "class car(vehicle):\n",
    "    def seating_capacity(self,seat):\n",
    "        self.seat=seat\n",
    "        return self.name_of_vehicle,self.seat"
   ]
  },
  {
   "cell_type": "code",
   "execution_count": 52,
   "id": "9800263a-0977-432a-9eea-422ea6b1c117",
   "metadata": {},
   "outputs": [],
   "source": [
    "car_O=car('bus',90,50)"
   ]
  },
  {
   "cell_type": "code",
   "execution_count": 53,
   "id": "9e49be89-61f1-41c9-ac48-89bd90acb50c",
   "metadata": {},
   "outputs": [
    {
     "data": {
      "text/plain": [
       "('bus', 5)"
      ]
     },
     "execution_count": 53,
     "metadata": {},
     "output_type": "execute_result"
    }
   ],
   "source": [
    "car_O.seating_capacity(5)"
   ]
  },
  {
   "cell_type": "code",
   "execution_count": 31,
   "id": "b0d4b94f-536c-44e2-91b6-b675fac6e34d",
   "metadata": {},
   "outputs": [],
   "source": [
    "\"\"\"Q3. What is multiple inheritance? Write a python code to demonstrate multiple inheritance.\"\"\"\n",
    "\n",
    "\"\"\"Multiple inheritance is a process where the child class or object inherits the methods and attributes from one or more parent classes.\"\"\"\n",
    "\n",
    "class test1():\n",
    "    def tset1_details(self):\n",
    "        return \"this is class1\"\n",
    "\n",
    "class test2():\n",
    "    def tset2_details(self):\n",
    "        return \"this is class2\"        \n",
    "class test3(test1,test2):\n",
    "    def tset3_details(self):\n",
    "        return \"this is class3\"\n",
    "    "
   ]
  },
  {
   "cell_type": "code",
   "execution_count": 32,
   "id": "50b4b641-4c6c-4100-bae3-2ee6c511932c",
   "metadata": {},
   "outputs": [],
   "source": [
    "obj=test3()"
   ]
  },
  {
   "cell_type": "code",
   "execution_count": 33,
   "id": "1aea3d41-caaf-41b3-b43d-d1312feb1ee9",
   "metadata": {},
   "outputs": [
    {
     "data": {
      "text/plain": [
       "'this is class1'"
      ]
     },
     "execution_count": 33,
     "metadata": {},
     "output_type": "execute_result"
    }
   ],
   "source": [
    "obj.tset1_details()"
   ]
  },
  {
   "cell_type": "code",
   "execution_count": 54,
   "id": "d9226f75-ea26-47bd-9daf-5acf172b4935",
   "metadata": {},
   "outputs": [],
   "source": [
    "\"\"\"Q4. What are getter and setter in python? Create a class and create a getter and a setter method in this\n",
    "class.\"\"\"\n",
    "\n",
    "# Getter: A method that allows to access an attribute in a given class. \n",
    "# Setter: A method that allows to set or mutate the value of an attribute in a class.\n",
    "class car:\n",
    "    def __init__(self,year,make,model,speed):\n",
    "        self.__year=year\n",
    "        self.__make=make\n",
    "        self.__model=model\n",
    "        self.__speed=0\n",
    "    def set_speed(self,speed):\n",
    "        self.__speed=0 if speed<0 else  speed\n",
    "    \n",
    "    def get_speed(self):\n",
    "        return self.__speed"
   ]
  },
  {
   "cell_type": "code",
   "execution_count": 55,
   "id": "ed4a55df-3918-4df2-9e93-1c07a5fa24e8",
   "metadata": {},
   "outputs": [],
   "source": [
    "c=car(2023,'toyota','innova',90)"
   ]
  },
  {
   "cell_type": "code",
   "execution_count": 56,
   "id": "3b5899c5-04f5-4132-b54d-1f8788e46a2e",
   "metadata": {},
   "outputs": [],
   "source": [
    "c.set_speed(-34)"
   ]
  },
  {
   "cell_type": "code",
   "execution_count": 57,
   "id": "66752d16-67f6-4b25-98fb-28e8468c9fa7",
   "metadata": {},
   "outputs": [
    {
     "data": {
      "text/plain": [
       "0"
      ]
     },
     "execution_count": 57,
     "metadata": {},
     "output_type": "execute_result"
    }
   ],
   "source": [
    "c.get_speed()"
   ]
  },
  {
   "cell_type": "code",
   "execution_count": 64,
   "id": "189abe8c-23fb-4f5d-9756-5d7d951dc5cb",
   "metadata": {},
   "outputs": [
    {
     "data": {
      "text/plain": [
       "'Method overriding is a feature of object-oriented programming languages where the subclass or child class can provide the program with specific characteristics or a specific implementation process of data provided that are already defined in the parent class or superclass.'"
      ]
     },
     "execution_count": 64,
     "metadata": {},
     "output_type": "execute_result"
    }
   ],
   "source": [
    "\"\"\"Q5.What is method overriding in python? Write a python code to demonstrate method overriding.\"\"\"\n",
    "\"\"\"Method overriding is a feature of object-oriented programming languages where the subclass or child class can provide the program with specific characteristics or a specific implementation process of data provided that are already defined in the parent class or superclass.\"\"\"\n",
    "\n"
   ]
  },
  {
   "cell_type": "code",
   "execution_count": 65,
   "id": "fa61926d-3679-480a-8e54-41215973e0dc",
   "metadata": {},
   "outputs": [],
   "source": [
    "class  pwskills2:\n",
    "    mobile_no=9382093431\n",
    "    def _init_(self,name,mail):\n",
    "        self.name=name\n",
    "        self.mail=mail\n",
    "    @classmethod\n",
    "    def change_mobile_no(cls,mobile):  \n",
    "        pwskills2.mobile_no=mobile\n",
    "    @classmethod\n",
    "    def details(cls,name,mail):\n",
    "        return cls(name,mail)               \n",
    "        \n",
    "    def students_details(self):\n",
    "        print(self.name,self,mail)"
   ]
  },
  {
   "cell_type": "code",
   "execution_count": 67,
   "id": "be708f03-59d1-43ac-96e1-db8bc427945f",
   "metadata": {},
   "outputs": [],
   "source": [
    "pwskills2.change_mobile_no(8768965794)"
   ]
  },
  {
   "cell_type": "code",
   "execution_count": 68,
   "id": "60834f05-494b-4eb8-8bd5-0baa62155f96",
   "metadata": {},
   "outputs": [
    {
     "ename": "NameError",
     "evalue": "name 'pwskills' is not defined",
     "output_type": "error",
     "traceback": [
      "\u001b[0;31m---------------------------------------------------------------------------\u001b[0m",
      "\u001b[0;31mNameError\u001b[0m                                 Traceback (most recent call last)",
      "Cell \u001b[0;32mIn[68], line 1\u001b[0m\n\u001b[0;32m----> 1\u001b[0m \u001b[43mpwskills\u001b[49m\u001b[38;5;241m.\u001b[39mmobile_no\n",
      "\u001b[0;31mNameError\u001b[0m: name 'pwskills' is not defined"
     ]
    }
   ],
   "source": [
    "pwskills2.mobile_no"
   ]
  }
 ],
 "metadata": {
  "kernelspec": {
   "display_name": "Python 3 (ipykernel)",
   "language": "python",
   "name": "python3"
  },
  "language_info": {
   "codemirror_mode": {
    "name": "ipython",
    "version": 3
   },
   "file_extension": ".py",
   "mimetype": "text/x-python",
   "name": "python",
   "nbconvert_exporter": "python",
   "pygments_lexer": "ipython3",
   "version": "3.10.8"
  }
 },
 "nbformat": 4,
 "nbformat_minor": 5
}
